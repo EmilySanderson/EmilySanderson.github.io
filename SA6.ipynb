{
 "cells": [
  {
   "cell_type": "markdown",
   "metadata": {},
   "source": [
    "# COMPSCI 1MD3 - Spring 2020\n",
    "## Instructor : Nicholas Moore\n",
    "## TAs:  Mehdi Jafarizadeh, Levin Noronha, Swaleh Owais, Bassel Rezkalla, Soroush Zamani\n",
    "\n",
    "### Special Instructions - Please read\n",
    "\n",
    "* DO NOT RENAME THE ASSIGNMENT FILE (otherwise it might not be submitted or graded).\n",
    "* DO NOT USE FUNCTION NAMES OTHER THAN THOSE PROVIDED IN THE QUESTION (or you will get zero for the question).\n",
    "* Validate your notebook before submitting\n",
    "* You must Submit the assignment from the assignments tab before the deadline.  Late submissions will not be accepted.  The only proof that your work was completed before the deadline is an on-time submission.  \n",
    "* If you are having trouble with the server not responding, you are probably trying to execute and infinite loop.  To remedy this:\n",
    "    * click the stop button on the tool bar (proportional response), or\n",
    "    * go to \"Control Panel\" >> \"Stop My Server\" >> \"Start My Server\" (nuclear option).  Note that you will lose any unsaved work with this one."
   ]
  },
  {
   "cell_type": "code",
   "execution_count": null,
   "metadata": {},
   "outputs": [],
   "source": []
  },
  {
   "cell_type": "markdown",
   "metadata": {
    "deletable": false,
    "editable": false,
    "nbgrader": {
     "cell_type": "markdown",
     "checksum": "664457cae8c8c469bd7768d39f48f771",
     "grade": false,
     "grade_id": "cell-2dd11ae6a069cb34",
     "locked": true,
     "schema_version": 3,
     "solution": false
    }
   },
   "source": [
    "### Assignment 6 Due June 14 @ 23:59 PM\n",
    "\n",
    "### Maximum grade: 48 / 20\n",
    "\n",
    "The purpose of this assignment is to:\n",
    "* Learn how to construct a medium-sized program\n",
    "* Learn how a large problem may be broken into a series of small problems using bottom-up modularization\n",
    "* Learn how to solve a Sudoku without really trying"
   ]
  },
  {
   "cell_type": "markdown",
   "metadata": {
    "deletable": false,
    "editable": false,
    "nbgrader": {
     "cell_type": "markdown",
     "checksum": "fd833ec76cb8ba9d566276fea93cc9de",
     "grade": false,
     "grade_id": "cell-7627f5746c36b7ce",
     "locked": true,
     "schema_version": 3,
     "solution": false
    }
   },
   "source": [
    "## Definition of a Sudoku\n",
    "A sudoku puzzle is a popular logic puzzle commonly found in newspapers and puzzle books.  The puzzle is given as a 9x9 grid with the numbers 1 through 9 entered in it.  Throughout this lab, we will take \"0\" to mean a \"blank cell\".  The objective of the puzzle is to fill in all the blank cells with numbers between 1 and 9.  A typical sudoku puzzle looks like this:\n",
    "\n",
    "0 0 7  || 0 0 0  || 0 1 5\n",
    "\n",
    "0 0 0  || 3 9 7  || 0 0 0\n",
    "\n",
    "0 6 2  || 0 1 0  || 4 0 9\n",
    "\n",
    "===============\n",
    "\n",
    "0 2 0  || 0 0 1  || 5 4 3\n",
    "\n",
    "7 0 0  || 4 0 9  || 0 0 1\n",
    "\n",
    "4 8 1  || 2 0 0  || 0 6 0\n",
    "\n",
    "===============\n",
    "\n",
    "9 0 6  || 0 2 0  || 7 3 0\n",
    "\n",
    "0 0 0  || 9 8 4  || 0 0 0\n",
    "\n",
    "1 5 0  || 0 0 0  || 2 0 0\n",
    "\n",
    "There are three rules about what numbers are allowed to go in any particular cell. \n",
    "\n",
    "1) Numbers are not allowed to occur more than once in any horizontal row \n",
    "\n",
    "2) Numbers are not allowed to occur more than once in any vertical column \n",
    "\n",
    "3) Numbers are not allowed to occur more than once in any of the nine smaller squares (here indicated by lines)\n",
    "\n",
    "Another way of saying this is that a number may only appear once in any row, column, or sub-square.  \n",
    "\n",
    "Over the course of this lab we will construct an algorithm which will solve sudoku problems automatically.  "
   ]
  },
  {
   "cell_type": "markdown",
   "metadata": {
    "deletable": false,
    "editable": false,
    "nbgrader": {
     "cell_type": "markdown",
     "checksum": "d8b0742cffd470f9b4de30da672f959c",
     "grade": false,
     "grade_id": "cell-7a5b41a495e5e76d",
     "locked": true,
     "schema_version": 3,
     "solution": false
    }
   },
   "source": [
    "## How we will encode a Sudoku Puzzle in Python\n",
    "For the purposes of this algorithm, we will define a sudoku puzzle as a two dimensional list, as follows.  Every element of s is a list containing nine elements, which correspond to each cell in that row.  When any function in this lab specifies a sudoku puzzle as an input, you may expect it in this format.\n",
    "\n",
    "s = [\n",
    "     \n",
    "     [0,0,7, 0,0,0, 0,1,5],\n",
    "\n",
    "     [0,0,0, 3,9,7, 0,0,0],\n",
    "     \n",
    "     [0,6,2, 0,1,0, 4,0,9],\n",
    "     \n",
    "     [0,2,0, 0,0,1, 5,4,3],\n",
    "     \n",
    "     [7,0,0, 4,0,9, 0,0,1],\n",
    "     \n",
    "     [4,8,1, 2,0,0, 0,6,0],\n",
    "     \n",
    "     [9,0,6, 0,2,0, 7,3,0],\n",
    "     \n",
    "     [0,0,0, 9,8,4, 0,0,0],\n",
    "     \n",
    "     [1,5,0, 0,0,0, 2,0,0]\n",
    "    ]\n",
    "    \n",
    "## Please run the cell below to instantiate the sudoku test cases throughout the rest of the assignment."
   ]
  },
  {
   "cell_type": "code",
   "execution_count": 769,
   "metadata": {
    "deletable": false,
    "editable": false,
    "nbgrader": {
     "cell_type": "code",
     "checksum": "a5c97b93d5a01e49306d389138546bce",
     "grade": false,
     "grade_id": "cell-3c69cec20bd46815",
     "locked": true,
     "schema_version": 3,
     "solution": false
    }
   },
   "outputs": [],
   "source": [
    "def instantiateCases () :\n",
    "    # Correctly Formulated Sudoku\n",
    "    global s \n",
    "    s = [[0,0,7, 0,0,0, 0,1,5],\n",
    "         [0,0,0, 3,9,7, 0,0,0],\n",
    "         [0,6,2, 0,1,0, 4,0,9], \n",
    "         [0,2,0, 0,0,1, 5,4,3],\n",
    "         [7,0,0, 4,0,9, 0,0,1],\n",
    "         [4,8,1, 2,0,0, 0,6,0],\n",
    "         [9,0,6, 0,2,0, 7,3,0],\n",
    "         [0,0,0, 9,8,4, 0,0,0],\n",
    "         [1,5,0, 0,0,0, 2,0,0]\n",
    "        ]    \n",
    "    # Unsolvable Sudoku (Information Missing)\n",
    "    global s2 \n",
    "    s2= [[0,0,0, 0,0,0, 0,1,5],\n",
    "         [0,0,0, 3,9,7, 0,0,0],\n",
    "         [0,0,0, 0,1,0, 4,0,9],\n",
    "         [0,0,0, 0,0,1, 5,4,3],\n",
    "         [0,0,0, 4,0,9, 0,0,1],\n",
    "         [0,0,0, 2,0,0, 0,6,0],\n",
    "         [0,0,0, 0,2,0, 7,3,0],\n",
    "         [0,0,0, 9,8,4, 0,0,0],\n",
    "         [0,0,0, 0,0,0, 2,0,0]\n",
    "        ]\n",
    "    # Solved Sudoku\n",
    "    global s3 \n",
    "    s3= [[8,9,7, 6,4,2, 3,1,5],\n",
    "         [5,1,4, 3,9,7, 6,8,2],\n",
    "         [3,6,2, 5,1,8, 4,7,9],\n",
    "         [6,2,9, 8,7,1, 5,4,3],\n",
    "         [7,3,5, 4,6,9, 8,2,1],\n",
    "         [4,8,1, 2,5,3, 9,6,7],\n",
    "         [9,4,6, 1,2,5, 7,3,8],\n",
    "         [2,7,3, 9,8,4, 1,5,6],\n",
    "         [1,5,8, 7,3,6, 2,9,4]]\n",
    "    # Invalid Sudoku (Does not follow Rules of Sudoku\n",
    "    global s4 \n",
    "    s4= [[0,0,7, 0,0,0, 0,1,5],\n",
    "         [0,0,0, 3,9,7, 0,0,0],\n",
    "         [0,6,2, 0,1,0, 4,0,9], \n",
    "         [0,2,0, 0,0,1, 5,4,3],\n",
    "         [7,0,0, 4,0,9, 0,0,1],\n",
    "         [4,8,1, 2,0,0, 0,6,0],\n",
    "         [9,0,6, 5,2,0, 7,3,0],\n",
    "         [0,0,0, 9,8,4, 0,0,0],\n",
    "         [1,3,6, 0,0,0, 2,0,0]\n",
    "        ]\n",
    "    # s after one full application of elimination\n",
    "    global s5 \n",
    "    s5=[[0,0,7, 0,0,0, 0,1,5],\n",
    "        [0,0,0, 3,9,7, 0,0,0],\n",
    "        [0,6,2, 0,1,0, 4,0,9],\n",
    "        [6,2,9, 0,7,1, 5,4,3],\n",
    "        [7,3,5, 4,6,9, 8,2,1],\n",
    "        [4,8,1, 2,0,0, 9,6,7],\n",
    "        [9,4,6, 0,2,5, 7,3,8],\n",
    "        [0,7,3, 9,8,4, 0,5,6],\n",
    "        [1,5,8, 0,3,6, 2,9,4]]\n",
    "    # Medium Difficulty Sudoku, unsolvable by elimination method alone\n",
    "    global m\n",
    "    m =[[1,0,0, 9,0,8, 3,6,0],\n",
    "        [0,0,5, 3,0,0, 4,0,0],\n",
    "        [8,0,0, 6,5,0, 0,0,0],\n",
    "        [0,0,0, 0,0,3, 0,9,2],\n",
    "        [0,0,3, 0,0,0, 1,0,0],\n",
    "        [5,6,0, 1,0,0, 0,0,0],\n",
    "        [0,0,0, 0,7,6, 0,0,3],\n",
    "        [0,0,6, 0,0,0, 2,0,0],\n",
    "        [0,8,4, 2,0,5, 0,0,7]]\n",
    "    # Super Difficult Sudoku, unsolvable by elimination method and requiring advanced techniques\n",
    "    global h\n",
    "    h =[[0,0,0, 0,0,0, 0,3,0],\n",
    "        [6,0,5, 0,0,0, 0,0,0],\n",
    "        [0,3,0, 0,1,0, 9,0,0],\n",
    "        [5,7,0, 6,0,0, 0,0,0],\n",
    "        [0,9,0, 0,0,0, 0,1,0],\n",
    "        [0,0,0, 0,0,8, 0,2,4],\n",
    "        [0,0,1, 0,7,0, 0,4,0],\n",
    "        [0,0,0, 0,0,0, 5,0,8],\n",
    "        [0,2,0, 0,0,0, 0,0,0]]\n",
    "        # Correctly Formulated Sudoku\n",
    "    global s6\n",
    "    s6= [[0,0,7, 0,0,0, 0,1,5],\n",
    "         [0,0,0, 3,9,7, 0,8,0],\n",
    "         [0,6,2, 0,1,8, 4,0,9], \n",
    "         [0,2,0, 0,0,1, 5,4,3],\n",
    "         [7,0,0, 4,0,9, 0,0,1],\n",
    "         [4,8,1, 2,0,0, 0,6,0],\n",
    "         [9,0,6, 0,2,0, 7,3,0],\n",
    "         [0,0,0, 9,8,4, 0,0,0],\n",
    "         [1,5,0, 0,0,0, 2,0,0]\n",
    "        ]    "
   ]
  },
  {
   "cell_type": "markdown",
   "metadata": {
    "deletable": false,
    "editable": false,
    "nbgrader": {
     "cell_type": "markdown",
     "checksum": "26dc7efc148b1f99497b50bc12bfa20b",
     "grade": false,
     "grade_id": "cell-7d0b7a9b04be9339",
     "locked": true,
     "schema_version": 3,
     "solution": false
    }
   },
   "source": [
    "### Question 1 - Checking if a Sudoku is Solved (2 points)\n",
    "Remember our problem definition.  The object of a sudoku puzzle is to fill every cell with the correct number.  Therefore, if zeros indicate an unfilled \"blank\" cell, then if there are __no zeros in a sudoku__, the puzzle is solved!\n",
    "\n",
    "Write a function 'solved(s)' which, given a sudoku puzzle, returns True if the puzzle is solved and False if it is not solved.  \n"
   ]
  },
  {
   "cell_type": "code",
   "execution_count": 770,
   "metadata": {
    "deletable": false,
    "nbgrader": {
     "cell_type": "code",
     "checksum": "f084d0d8850c4c29558ed69fa2d7d2b9",
     "grade": false,
     "grade_id": "cell-37856399bdd166c5",
     "locked": false,
     "schema_version": 3,
     "solution": true
    }
   },
   "outputs": [],
   "source": [
    "def solved(s) :\n",
    "    for row in s:\n",
    "        if 0 in row:\n",
    "            return False\n",
    "    return True"
   ]
  },
  {
   "cell_type": "markdown",
   "metadata": {
    "deletable": false,
    "editable": false,
    "nbgrader": {
     "cell_type": "markdown",
     "checksum": "8d6f6dfec0513adba5a9e338d168f0a9",
     "grade": false,
     "grade_id": "cell-8b99c9aea9cb38ef",
     "locked": true,
     "schema_version": 3,
     "solution": false
    }
   },
   "source": [
    "### Test Cases"
   ]
  },
  {
   "cell_type": "code",
   "execution_count": 771,
   "metadata": {},
   "outputs": [
    {
     "data": {
      "text/plain": [
       "True"
      ]
     },
     "execution_count": 771,
     "metadata": {},
     "output_type": "execute_result"
    }
   ],
   "source": [
    "instantiateCases () \n",
    "solved(s) == False"
   ]
  },
  {
   "cell_type": "code",
   "execution_count": 772,
   "metadata": {},
   "outputs": [
    {
     "name": "stdout",
     "output_type": "stream",
     "text": [
      "True\n",
      "False\n",
      "False\n",
      "False\n",
      "False\n",
      "False\n",
      "False\n"
     ]
    }
   ],
   "source": [
    "instantiateCases () \n",
    "print(solved(s3) == True)\n",
    "print(solved(s2))\n",
    "print(solved(s4))\n",
    "print(solved(s5))\n",
    "print(solved(m))\n",
    "print(solved(h))\n",
    "print(solved(s6))"
   ]
  },
  {
   "cell_type": "code",
   "execution_count": 773,
   "metadata": {
    "deletable": false,
    "editable": false,
    "nbgrader": {
     "cell_type": "code",
     "checksum": "2a827d28b1abfa76d8335cc58f86ba3e",
     "grade": true,
     "grade_id": "cell-b92ff0a500757b25",
     "locked": true,
     "points": 1,
     "schema_version": 3,
     "solution": false
    }
   },
   "outputs": [],
   "source": [
    "# Hidden Test Case"
   ]
  },
  {
   "cell_type": "code",
   "execution_count": 774,
   "metadata": {
    "deletable": false,
    "editable": false,
    "nbgrader": {
     "cell_type": "code",
     "checksum": "7d1c090d695a4ecc77d18e97a2d5888d",
     "grade": true,
     "grade_id": "cell-142299d193527a62",
     "locked": true,
     "points": 1,
     "schema_version": 3,
     "solution": false
    }
   },
   "outputs": [],
   "source": [
    "# Hidden Test Case"
   ]
  },
  {
   "cell_type": "markdown",
   "metadata": {
    "deletable": false,
    "editable": false,
    "nbgrader": {
     "cell_type": "markdown",
     "checksum": "8284b46b34e3939acc812f4a96e5ff63",
     "grade": false,
     "grade_id": "cell-d019668d15a888f6",
     "locked": true,
     "schema_version": 3,
     "solution": false
    }
   },
   "source": [
    "## Question 2a - Implementing Rule 1 (2 point)\n",
    "Recall the first rule of sudoku: \"A number may not occur more than once in a given row.\"  In order to test our possible solutions later on, it will be convenient to have a function that automatically tells us if a specific value is \"valid\" for a specific row.  \n",
    "\n",
    "Write a function `horizontalCheck(x,val,s)` which, given a row number `x`, a value to check `val`, and a sudoku puzzle `s`, returns False if the given value has already been used in the indicated row, and True if the number is still available."
   ]
  },
  {
   "cell_type": "code",
   "execution_count": 775,
   "metadata": {
    "deletable": false,
    "nbgrader": {
     "cell_type": "code",
     "checksum": "65e9f10a504b3be22b1e39d38fe7b74f",
     "grade": false,
     "grade_id": "cell-4d5b8175ecae9756",
     "locked": false,
     "schema_version": 3,
     "solution": true
    }
   },
   "outputs": [],
   "source": [
    "def horizontalCheck(x, val, s) :\n",
    "    if val in s[x]:\n",
    "        return False\n",
    "    else:\n",
    "        return True\n",
    "\n"
   ]
  },
  {
   "cell_type": "markdown",
   "metadata": {
    "deletable": false,
    "editable": false,
    "nbgrader": {
     "cell_type": "markdown",
     "checksum": "7fead77a842cb0a7ca4d7a09159bc684",
     "grade": false,
     "grade_id": "cell-7f182ad010a348b5",
     "locked": true,
     "schema_version": 3,
     "solution": false
    }
   },
   "source": [
    "### Test Cases"
   ]
  },
  {
   "cell_type": "code",
   "execution_count": 776,
   "metadata": {},
   "outputs": [
    {
     "data": {
      "text/plain": [
       "True"
      ]
     },
     "execution_count": 776,
     "metadata": {},
     "output_type": "execute_result"
    }
   ],
   "source": [
    "instantiateCases () \n",
    "horizontalCheck(0,5,s) == False"
   ]
  },
  {
   "cell_type": "code",
   "execution_count": 777,
   "metadata": {},
   "outputs": [
    {
     "data": {
      "text/plain": [
       "True"
      ]
     },
     "execution_count": 777,
     "metadata": {},
     "output_type": "execute_result"
    }
   ],
   "source": [
    "instantiateCases () \n",
    "horizontalCheck(1,1,s) == True"
   ]
  },
  {
   "cell_type": "code",
   "execution_count": 778,
   "metadata": {
    "deletable": false,
    "editable": false,
    "nbgrader": {
     "cell_type": "code",
     "checksum": "b3dedce703ad424106760e88011d8e00",
     "grade": true,
     "grade_id": "cell-c30cdfc80a73eb80",
     "locked": true,
     "points": 1,
     "schema_version": 3,
     "solution": false
    }
   },
   "outputs": [],
   "source": [
    "# Hidden Test Case"
   ]
  },
  {
   "cell_type": "code",
   "execution_count": 779,
   "metadata": {
    "deletable": false,
    "editable": false,
    "nbgrader": {
     "cell_type": "code",
     "checksum": "7cfeb1b63ae699ecc76de6fb49adae82",
     "grade": true,
     "grade_id": "cell-78e8a05ae679cebf",
     "locked": true,
     "points": 1,
     "schema_version": 3,
     "solution": false
    }
   },
   "outputs": [],
   "source": [
    "# Hidden Test Case"
   ]
  },
  {
   "cell_type": "markdown",
   "metadata": {
    "deletable": false,
    "editable": false,
    "nbgrader": {
     "cell_type": "markdown",
     "checksum": "adfecf62455b9762dad0627189102679",
     "grade": false,
     "grade_id": "cell-e92b345f34489fdd",
     "locked": true,
     "schema_version": 3,
     "solution": false
    }
   },
   "source": [
    "## Question 2b - Implementing Rule 2 (2 points)\n",
    "Recall the second law of sudoku: \"A number may not occur more than once in a given column\"  Similarly to 2a, it will be useful later on to create a function which implements this as a check.  \n",
    "\n",
    "Write a function `verticalCheck(y,val,s)` which, given a column number `y`, a value to check `val`, and a sudoku puzzle `s`, returns False if the given value has already been used in the indicated column, and True if the number is still available."
   ]
  },
  {
   "cell_type": "code",
   "execution_count": 780,
   "metadata": {
    "deletable": false,
    "nbgrader": {
     "cell_type": "code",
     "checksum": "936dc184e66092386f8f4683e30cc77b",
     "grade": false,
     "grade_id": "cell-2eb49b1e1dc57997",
     "locked": false,
     "schema_version": 3,
     "solution": true
    }
   },
   "outputs": [],
   "source": [
    "def verticalCheck(y, val, s) :\n",
    "    for row in s:\n",
    "        if row[y] == val:\n",
    "            return False  \n",
    "    return True\n",
    "\n"
   ]
  },
  {
   "cell_type": "markdown",
   "metadata": {
    "deletable": false,
    "editable": false,
    "nbgrader": {
     "cell_type": "markdown",
     "checksum": "016c61cb23008ea53264e6b7e47a494d",
     "grade": false,
     "grade_id": "cell-b7e3d61856b1cb27",
     "locked": true,
     "schema_version": 3,
     "solution": false
    }
   },
   "source": [
    "### Test Cases"
   ]
  },
  {
   "cell_type": "code",
   "execution_count": 781,
   "metadata": {},
   "outputs": [
    {
     "data": {
      "text/plain": [
       "True"
      ]
     },
     "execution_count": 781,
     "metadata": {},
     "output_type": "execute_result"
    }
   ],
   "source": [
    "instantiateCases () \n",
    "verticalCheck(4,8,s) == False"
   ]
  },
  {
   "cell_type": "code",
   "execution_count": 782,
   "metadata": {},
   "outputs": [
    {
     "data": {
      "text/plain": [
       "True"
      ]
     },
     "execution_count": 782,
     "metadata": {},
     "output_type": "execute_result"
    }
   ],
   "source": [
    "instantiateCases () \n",
    "verticalCheck(8,7,s) == True"
   ]
  },
  {
   "cell_type": "code",
   "execution_count": 783,
   "metadata": {
    "deletable": false,
    "editable": false,
    "nbgrader": {
     "cell_type": "code",
     "checksum": "f762f37f76dcd23a16213993761be6ef",
     "grade": true,
     "grade_id": "cell-582ca42889e10009",
     "locked": true,
     "points": 1,
     "schema_version": 3,
     "solution": false
    }
   },
   "outputs": [],
   "source": [
    "# Hidden Test Case"
   ]
  },
  {
   "cell_type": "code",
   "execution_count": 784,
   "metadata": {
    "deletable": false,
    "editable": false,
    "nbgrader": {
     "cell_type": "code",
     "checksum": "bc79ff43026dea627e13eed891e5b154",
     "grade": true,
     "grade_id": "cell-0411adb352b72c49",
     "locked": true,
     "points": 1,
     "schema_version": 3,
     "solution": false
    }
   },
   "outputs": [],
   "source": [
    "# Hidden Test Case"
   ]
  },
  {
   "cell_type": "markdown",
   "metadata": {
    "deletable": false,
    "editable": false,
    "nbgrader": {
     "cell_type": "markdown",
     "checksum": "749ba8fbabc30dcb3a70eff3544edb7b",
     "grade": false,
     "grade_id": "cell-1beadf560529f8ea",
     "locked": true,
     "schema_version": 3,
     "solution": false
    }
   },
   "source": [
    "## Question 2c - Implementing Rule 3 (3 points)\n",
    "Recall the third law of sudoku: \"A number may not occur more than once within a given sub-square.\"  A 9x9 sudoku contains 9 3x3 subsquares, as illustrated in the assignment introduction.  \n",
    "\n",
    "Write a function `subSquareCheck(x,y,val,s)` that, given the `x` and `y` position of the cell we are checking ('x' and 'y' respectively), a value to check `val`, and a sudoku puzzle `s`, returns False if the given value has already been used in the indicated sub-square, and True if the number is still available. \n",
    "\n",
    "HINT: Up to now we have been creating ranges to loop over within the loop statement itself, but this need not be the case!  While it's certainly possible to generate the correct ranges algebraicly, you could also use if-statements!  \n",
    "\n",
    "ANOTHER HINT: In our sudoku format, the first index selects the row, which means it corresponds to the y-coordinate."
   ]
  },
  {
   "cell_type": "code",
   "execution_count": 785,
   "metadata": {
    "deletable": false,
    "nbgrader": {
     "cell_type": "code",
     "checksum": "009890c97a4258733c82e44aa690b033",
     "grade": false,
     "grade_id": "cell-2b40016d358c45d7",
     "locked": false,
     "schema_version": 3,
     "solution": true
    }
   },
   "outputs": [],
   "source": [
    "def whichSquare(pos):\n",
    "    a = (0,1,2)\n",
    "    b = (3,4,5)\n",
    "    c = (6,7,8)\n",
    "    if pos in a:\n",
    "        return a\n",
    "    elif pos in b:\n",
    "        return b\n",
    "    else:\n",
    "        return c\n",
    "\n",
    "def subSquareCheck(x,y,val,s) :\n",
    "    for i in whichSquare(x):\n",
    "        for j in whichSquare(y):\n",
    "            if s[j][i] == val:\n",
    "                return False\n",
    "    return True"
   ]
  },
  {
   "cell_type": "markdown",
   "metadata": {},
   "source": [
    "### Test Cases"
   ]
  },
  {
   "cell_type": "code",
   "execution_count": 786,
   "metadata": {},
   "outputs": [
    {
     "data": {
      "text/plain": [
       "True"
      ]
     },
     "execution_count": 786,
     "metadata": {},
     "output_type": "execute_result"
    }
   ],
   "source": [
    "instantiateCases () \n",
    "subSquareCheck(7,4,6,s) == False"
   ]
  },
  {
   "cell_type": "code",
   "execution_count": 787,
   "metadata": {},
   "outputs": [
    {
     "data": {
      "text/plain": [
       "True"
      ]
     },
     "execution_count": 787,
     "metadata": {},
     "output_type": "execute_result"
    }
   ],
   "source": [
    "instantiateCases () \n",
    "subSquareCheck(4,7,6,s) == True"
   ]
  },
  {
   "cell_type": "code",
   "execution_count": 788,
   "metadata": {
    "deletable": false,
    "editable": false,
    "nbgrader": {
     "cell_type": "code",
     "checksum": "7fe445068f0ce0944898e967249071cc",
     "grade": true,
     "grade_id": "cell-ded752ae30536b08",
     "locked": true,
     "points": 1,
     "schema_version": 3,
     "solution": false
    }
   },
   "outputs": [],
   "source": [
    "# Hidden Test Case"
   ]
  },
  {
   "cell_type": "code",
   "execution_count": 789,
   "metadata": {
    "deletable": false,
    "editable": false,
    "nbgrader": {
     "cell_type": "code",
     "checksum": "f0d39091761e2a6f8d2adf704033e2c3",
     "grade": true,
     "grade_id": "cell-904615925ec15a55",
     "locked": true,
     "points": 1,
     "schema_version": 3,
     "solution": false
    }
   },
   "outputs": [],
   "source": [
    "# Hidden Test Case"
   ]
  },
  {
   "cell_type": "code",
   "execution_count": 790,
   "metadata": {
    "deletable": false,
    "editable": false,
    "nbgrader": {
     "cell_type": "code",
     "checksum": "ab52088c7c6823c5fa0d8946fe8377bd",
     "grade": true,
     "grade_id": "cell-097aa1f12bfe92ff",
     "locked": true,
     "points": 1,
     "schema_version": 3,
     "solution": false
    }
   },
   "outputs": [],
   "source": [
    "# Hidden Test Case"
   ]
  },
  {
   "cell_type": "markdown",
   "metadata": {
    "deletable": false,
    "editable": false,
    "nbgrader": {
     "cell_type": "markdown",
     "checksum": "97ed1cf876ce74c3b7502cba76611756",
     "grade": false,
     "grade_id": "cell-99409e66f325c9ad",
     "locked": true,
     "schema_version": 3,
     "solution": false
    }
   },
   "source": [
    "## Question 3 - Constructing a Strategy (3 points)\n",
    "There are several strategies that may be used to solve a sudoku puzzle, but the simplest is the so-called \"process of elimination.\"  Using this strategy, we examine a cell's environment to see how many numbers are possible.  This should be reasonably simple, since the range of possible values is known, and we already have three functions which perform the three checks necessary.  \n",
    "\n",
    "If there is __only one__ value that is allowable, then the value gets written into that cell.  If there is more than one possibility, we leave the cell blank.  If there are no possible values for this cell, then the information given in the puzzle contradicts the three rules of sudokus.  In this case, we will raise a __\"Sudoku Invalid\"__ exception.  \n",
    "\n",
    "Write a function 'elimination(x,y,s)' that, given a zero-indexed x and y position in the puzzle ('x' and 'y' respectively), and a sudoku puzzle s, returns the either a zero or \"blank\" if there is more than one possible answer, the answer if there is exactly one possible answer, and raises a \"Sudoku Invalid\" exception if there are no possible answers.  "
   ]
  },
  {
   "cell_type": "code",
   "execution_count": 791,
   "metadata": {
    "deletable": false,
    "nbgrader": {
     "cell_type": "code",
     "checksum": "1f964517de70b906d488bd261ce51d5a",
     "grade": false,
     "grade_id": "cell-f8f7a3db2608a9b5",
     "locked": false,
     "schema_version": 3,
     "solution": true
    }
   },
   "outputs": [],
   "source": [
    "class SudokuInvalid(Exception):\n",
    "    pass\n",
    "def elimination (col, row, s) :\n",
    "    counter = 0\n",
    "    ans = 0\n",
    "    for val in (1,2,3,4,5,6,7,8,9):\n",
    "        if (subSquareCheck(col,row,val,s) and verticalCheck(col, val, s) and horizontalCheck(row, val, s)):\n",
    "            counter += 1\n",
    "            ans = val\n",
    "    if (counter == 0):\n",
    "        raise SudokuInvalid\n",
    "    elif (counter == 1):\n",
    "        return ans\n",
    "    else:\n",
    "        return 0"
   ]
  },
  {
   "cell_type": "markdown",
   "metadata": {
    "deletable": false,
    "editable": false,
    "nbgrader": {
     "cell_type": "markdown",
     "checksum": "3e4200d97414f1b44de63bd0ce291323",
     "grade": false,
     "grade_id": "cell-012b5413b8c8d4f1",
     "locked": true,
     "schema_version": 3,
     "solution": false
    }
   },
   "source": [
    "### Test Cases"
   ]
  },
  {
   "cell_type": "code",
   "execution_count": 792,
   "metadata": {},
   "outputs": [
    {
     "data": {
      "text/plain": [
       "True"
      ]
     },
     "execution_count": 792,
     "metadata": {},
     "output_type": "execute_result"
    }
   ],
   "source": [
    "instantiateCases () \n",
    "elimination (6,4,s) == 8"
   ]
  },
  {
   "cell_type": "code",
   "execution_count": 793,
   "metadata": {},
   "outputs": [
    {
     "data": {
      "text/plain": [
       "True"
      ]
     },
     "execution_count": 793,
     "metadata": {},
     "output_type": "execute_result"
    }
   ],
   "source": [
    "instantiateCases () \n",
    "elimination (0,0,s) == 0"
   ]
  },
  {
   "cell_type": "code",
   "execution_count": 794,
   "metadata": {},
   "outputs": [
    {
     "name": "stdout",
     "output_type": "stream",
     "text": [
      "This test passed as an exception occured\n"
     ]
    }
   ],
   "source": [
    "instantiateCases () \n",
    "try :\n",
    "    elimination (5,6,s4)\n",
    "    print(elimination (5,6,s4), \"This test failed as no exception occured\")\n",
    "except :\n",
    "    print(\"This test passed as an exception occured\")\n"
   ]
  },
  {
   "cell_type": "code",
   "execution_count": 795,
   "metadata": {
    "deletable": false,
    "editable": false,
    "nbgrader": {
     "cell_type": "code",
     "checksum": "092e943699a2db1d40d063d90cc55f93",
     "grade": true,
     "grade_id": "cell-4aa94e0e384185c9",
     "locked": true,
     "points": 1,
     "schema_version": 3,
     "solution": false
    }
   },
   "outputs": [],
   "source": [
    "# Hidden Test Case"
   ]
  },
  {
   "cell_type": "code",
   "execution_count": 796,
   "metadata": {
    "deletable": false,
    "editable": false,
    "nbgrader": {
     "cell_type": "code",
     "checksum": "814052b00d29df0c0bd839609b24b7c7",
     "grade": true,
     "grade_id": "cell-3ad42e5eda3f17d8",
     "locked": true,
     "points": 1,
     "schema_version": 3,
     "solution": false
    }
   },
   "outputs": [],
   "source": [
    "# Hidden Test Case"
   ]
  },
  {
   "cell_type": "code",
   "execution_count": 797,
   "metadata": {
    "deletable": false,
    "editable": false,
    "nbgrader": {
     "cell_type": "code",
     "checksum": "5d25e87f9834b7e9d37d9186b2157a72",
     "grade": true,
     "grade_id": "cell-e086e1d98b8820d0",
     "locked": true,
     "points": 1,
     "schema_version": 3,
     "solution": false
    }
   },
   "outputs": [],
   "source": [
    "# Hidden Test Case"
   ]
  },
  {
   "cell_type": "markdown",
   "metadata": {
    "deletable": false,
    "editable": false,
    "nbgrader": {
     "cell_type": "markdown",
     "checksum": "4fee91d4c36af9213a24beebd4399aea",
     "grade": false,
     "grade_id": "cell-68aab76da1c91676",
     "locked": true,
     "schema_version": 3,
     "solution": false
    }
   },
   "source": [
    "## Question 4 - Applying Strategies (4 points)\n",
    "Now that we have a strategy to apply (elimination), we should teach the computer how to apply strategies to a sudoku puzzle.  However, the elimination strategy is only one of a number of possible sudoku solving strategies.  For more information on sudoku solving strategies, take a look at the following youtube video: https://www.youtube.com/watch?v=b123EURtu3I . With respect to this video, we have only implemented somewhat dubiously named \"Naked Singles\" strategy.\n",
    "\n",
    "Write a function 'applyStrategy(strategy, s)' which, given a strategy (in this case, a function with the input/output properties described in Question 3), and a puzzle s, applies that strategy to each cell in the puzzle.  Have the function return True if the strategy worked, and False if it didnt (see below). It will become important later on to know if a strategy worked.  To this end, we need to keep track of whether there are any differences between the strategy's return results and what was already in the puzzle.  To clarify, if, for a particular cell, the strategy returns what the cell already contained, there has been no change, and the strategy failed for that cell.  We are interested in whether at least one of the cells were changed when we applied the strategy to the entire puzzle.  \n",
    "\n",
    "HINT: There is no need to run a strategy on a cell that is not \"blank\" (i.e., contains zero).  \n",
    "\n",
    "DOUBLE HINT: Given that s is a mutable data type, we can simply modify the contents of the cells using assignment statements. "
   ]
  },
  {
   "cell_type": "code",
   "execution_count": 798,
   "metadata": {
    "deletable": false,
    "nbgrader": {
     "cell_type": "code",
     "checksum": "4375d19655c63d8181db0a4fc77fb146",
     "grade": false,
     "grade_id": "cell-88deda1e8a83ad88",
     "locked": false,
     "schema_version": 3,
     "solution": true
    }
   },
   "outputs": [],
   "source": [
    "def applyStrategy(strategy, s) :\n",
    "    counter = 0\n",
    "    for row in range(9):\n",
    "        for col in range(9):\n",
    "            if (s[row][col] == 0):\n",
    "                if strategy(col, row, s) > 0:\n",
    "                    s[row][col] = strategy(col, row, s)\n",
    "                    counter +=1\n",
    "    if counter == 0:\n",
    "        return False\n",
    "    else:\n",
    "        return True\n"
   ]
  },
  {
   "cell_type": "markdown",
   "metadata": {},
   "source": [
    "### Test Cases"
   ]
  },
  {
   "cell_type": "code",
   "execution_count": 799,
   "metadata": {},
   "outputs": [
    {
     "data": {
      "text/plain": [
       "True"
      ]
     },
     "execution_count": 799,
     "metadata": {},
     "output_type": "execute_result"
    }
   ],
   "source": [
    "instantiateCases () \n",
    "applyStrategy(elimination, s)\n",
    "s == s5"
   ]
  },
  {
   "cell_type": "code",
   "execution_count": 800,
   "metadata": {},
   "outputs": [
    {
     "data": {
      "text/plain": [
       "True"
      ]
     },
     "execution_count": 800,
     "metadata": {},
     "output_type": "execute_result"
    }
   ],
   "source": [
    "instantiateCases () \n",
    "applyStrategy(elimination, s3) == False"
   ]
  },
  {
   "cell_type": "code",
   "execution_count": 801,
   "metadata": {},
   "outputs": [
    {
     "data": {
      "text/plain": [
       "True"
      ]
     },
     "execution_count": 801,
     "metadata": {},
     "output_type": "execute_result"
    }
   ],
   "source": [
    "instantiateCases()\n",
    "applyStrategy(elimination, s5)"
   ]
  },
  {
   "cell_type": "code",
   "execution_count": 802,
   "metadata": {
    "deletable": false,
    "editable": false,
    "nbgrader": {
     "cell_type": "code",
     "checksum": "93e1f22fb19b052b44197d5c412d3f80",
     "grade": true,
     "grade_id": "cell-759f6f3545b05728",
     "locked": true,
     "points": 2,
     "schema_version": 3,
     "solution": false
    }
   },
   "outputs": [],
   "source": [
    "# Hidden Test Case"
   ]
  },
  {
   "cell_type": "code",
   "execution_count": 803,
   "metadata": {
    "deletable": false,
    "editable": false,
    "nbgrader": {
     "cell_type": "code",
     "checksum": "3a17e0a4c2524ef3da7cda9ffb7c55df",
     "grade": true,
     "grade_id": "cell-0d0ce427c73c2535",
     "locked": true,
     "points": 1,
     "schema_version": 3,
     "solution": false
    }
   },
   "outputs": [],
   "source": [
    "# Hidden Test Case"
   ]
  },
  {
   "cell_type": "code",
   "execution_count": 804,
   "metadata": {
    "deletable": false,
    "editable": false,
    "nbgrader": {
     "cell_type": "code",
     "checksum": "7db8d26fd4f110896012dd6ac15d2d0b",
     "grade": true,
     "grade_id": "cell-db0973748ad31e6c",
     "locked": true,
     "points": 1,
     "schema_version": 3,
     "solution": false
    }
   },
   "outputs": [],
   "source": [
    "# Hidden Test Case"
   ]
  },
  {
   "cell_type": "code",
   "execution_count": 805,
   "metadata": {
    "deletable": false,
    "editable": false,
    "nbgrader": {
     "cell_type": "code",
     "checksum": "eb2c8f208a150a9725eefeb838d107da",
     "grade": true,
     "grade_id": "cell-0ab980d24bae89d9",
     "locked": true,
     "points": 1,
     "schema_version": 3,
     "solution": false
    }
   },
   "outputs": [],
   "source": [
    "# Hidden Test Case"
   ]
  },
  {
   "cell_type": "markdown",
   "metadata": {},
   "source": [
    "## Question 5 - Bringing it all together (4 points)\n",
    "Now that we have a way to apply strategies to a puzzle, let's create an algorithm that will attempt to solve a puzzle, given the puzzle and a list of strategy functions.  \n",
    "\n",
    "We must repeatedly apply the given list of strategies to the puzzle until they stop working or the puzzle is solved (remember to use our function from Question 1!) We will try to apply each strategy in the list of strategies once to the puzzle per execution of the loop.  If all of them return False, the puzzle has not changed, and we break the loop. If the algorithm fails to solve the puzzle, raise a __\"Sudoku Unsolvable\"__ exception.  Otherwise, return the solved puzzle.  "
   ]
  },
  {
   "cell_type": "code",
   "execution_count": 806,
   "metadata": {
    "deletable": false,
    "nbgrader": {
     "cell_type": "code",
     "checksum": "3468c760fce7b918b32cad2b73d7d7f9",
     "grade": false,
     "grade_id": "cell-0ac9debcd4c5baeb",
     "locked": false,
     "schema_version": 3,
     "solution": true
    }
   },
   "outputs": [],
   "source": [
    "class SudokuUnsolvable(Exception):\n",
    "    pass\n",
    "\n",
    "def sudokuSolver (s, strategies) :\n",
    "    while not solved(s):\n",
    "        changed = []\n",
    "        for strategy in strategies:\n",
    "            changed.append(applyStrategy(strategy, s))\n",
    "        if True not in changed:\n",
    "            break\n",
    "    \n",
    "    if not solved(s):\n",
    "\n",
    "        raise SudokuUnsolvable\n",
    "    else:    \n",
    "        return s"
   ]
  },
  {
   "cell_type": "markdown",
   "metadata": {},
   "source": [
    "### Test Cases"
   ]
  },
  {
   "cell_type": "code",
   "execution_count": 807,
   "metadata": {},
   "outputs": [
    {
     "data": {
      "text/plain": [
       "True"
      ]
     },
     "execution_count": 807,
     "metadata": {},
     "output_type": "execute_result"
    }
   ],
   "source": [
    "instantiateCases () \n",
    "sudokuSolver(s, [elimination]) == s3"
   ]
  },
  {
   "cell_type": "code",
   "execution_count": 808,
   "metadata": {},
   "outputs": [
    {
     "data": {
      "text/plain": [
       "True"
      ]
     },
     "execution_count": 808,
     "metadata": {},
     "output_type": "execute_result"
    }
   ],
   "source": [
    "instantiateCases () \n",
    "sudokuSolver(s5, [elimination]) == s3"
   ]
  },
  {
   "cell_type": "code",
   "execution_count": 809,
   "metadata": {},
   "outputs": [
    {
     "name": "stdout",
     "output_type": "stream",
     "text": [
      "This test passed as an exception occured\n"
     ]
    }
   ],
   "source": [
    "instantiateCases () \n",
    "try :\n",
    "    sudokuSolver(s2, [elimination])\n",
    "    print(\"This test failed as no exception occured\")\n",
    "except :\n",
    "    print(\"This test passed as an exception occured\")"
   ]
  },
  {
   "cell_type": "code",
   "execution_count": 810,
   "metadata": {
    "deletable": false,
    "editable": false,
    "nbgrader": {
     "cell_type": "code",
     "checksum": "5237ae72a82e39d7eb7a5ed1bb683d26",
     "grade": true,
     "grade_id": "cell-9dbb26ec2d92cc79",
     "locked": true,
     "points": 1,
     "schema_version": 3,
     "solution": false
    }
   },
   "outputs": [],
   "source": [
    "# Hidden Test Case"
   ]
  },
  {
   "cell_type": "code",
   "execution_count": 811,
   "metadata": {
    "deletable": false,
    "editable": false,
    "nbgrader": {
     "cell_type": "code",
     "checksum": "fc25995aa4a74b9ca6031e8f61e7d934",
     "grade": true,
     "grade_id": "cell-5af373e508df9060",
     "locked": true,
     "points": 1,
     "schema_version": 3,
     "solution": false
    }
   },
   "outputs": [],
   "source": [
    "# Hidden Test Case"
   ]
  },
  {
   "cell_type": "code",
   "execution_count": 812,
   "metadata": {
    "deletable": false,
    "editable": false,
    "nbgrader": {
     "cell_type": "code",
     "checksum": "35223d2293f354165fa5b90a69c64cbd",
     "grade": true,
     "grade_id": "cell-217dceec86279850",
     "locked": true,
     "points": 1,
     "schema_version": 3,
     "solution": false
    }
   },
   "outputs": [],
   "source": [
    "# Hidden Test Case"
   ]
  },
  {
   "cell_type": "code",
   "execution_count": 813,
   "metadata": {
    "deletable": false,
    "editable": false,
    "nbgrader": {
     "cell_type": "code",
     "checksum": "965eb1e68a6b0eb836ec1f683adc7388",
     "grade": true,
     "grade_id": "cell-80e5be5f92c584a4",
     "locked": true,
     "points": 1,
     "schema_version": 3,
     "solution": false
    }
   },
   "outputs": [],
   "source": [
    "# Hidden Test Case"
   ]
  },
  {
   "cell_type": "markdown",
   "metadata": {
    "deletable": false,
    "editable": false,
    "nbgrader": {
     "cell_type": "markdown",
     "checksum": "4f3fd3ae0fe4b97eb349e77543a8b94a",
     "grade": false,
     "grade_id": "cell-f92bc911172c547a",
     "locked": true,
     "schema_version": 3,
     "solution": false
    }
   },
   "source": [
    "## Bonus Question 1a (8 points) - Difficulty Level : Evil\n",
    "Our elimination method (also known as \"Naked Singles\") works well for easy sudoku problems, but fails when used on more difficult puzzles, such as those defined above as puzzles \"m\" and \"h\".  In order to solve these puzzles, we need more strategies!!  \n",
    "\n",
    "Here's a link to the youtube video cited above which outlines nine sudoku strategies: https://www.youtube.com/watch?v=b123EURtu3I\n",
    "\n",
    "Using your programming skills, create one or more additional strategies, such that our solveSudoku function (when supplied with the additional strategies) will solve the \"m\" sudoku puzzle. You are free to select whatever set of strategies you like, but \"Hidden Singles\" is a suggested starting point.\n",
    "\n",
    "Remember that a strategy must take the inputs x, y, and s, as indicated in Question 3.  \n",
    "\n",
    "NOTE: This question is difficult, long and complicated!  Don't stress too much if you can't get it... it won't be on the exam ^_^\n",
    "\n",
    "DOUBLE NOTE: Solving 'm' is worth full marks.  Part marks will be awarded for being able to fill in additional blanks left over from running the 'elimination' strategy."
   ]
  },
  {
   "cell_type": "code",
   "execution_count": 838,
   "metadata": {
    "deletable": false,
    "nbgrader": {
     "cell_type": "code",
     "checksum": "f4260e51020ccb773b2428fbb388c4da",
     "grade": false,
     "grade_id": "cell-12899cb618ecedb4",
     "locked": false,
     "schema_version": 3,
     "solution": true
    }
   },
   "outputs": [],
   "source": [
    "from itertools import combinations \n",
    "import copy\n",
    "import random\n",
    "\n",
    "def applyStrategy(strategy, s, sbar) :\n",
    "    counter = 0\n",
    "    sbarChange = copy.deepcopy(sbar)\n",
    "    try:\n",
    "        #For elimination and Hidden singles strategies\n",
    "        for row in range(9):\n",
    "            for col in range(9):\n",
    "                if (s[row][col] == 0):\n",
    "                    #For eliminiation and hidden Singles\n",
    "                    if strategy(col, row, s) > 0:\n",
    "                        s[row][col] = strategy(col, row, s)\n",
    "                        counter +=1\n",
    "    except:\n",
    "        #For all other strategies\n",
    "        strategy(s)\n",
    "        for row in range(9):\n",
    "            for col in range(9):\n",
    "                if sbarChange[row][col] != sbar[row][col]:\n",
    "                    counter +=1\n",
    "    if counter == 0:\n",
    "        return False\n",
    "    else:\n",
    "        return True\n",
    "\n",
    "def possibilities(s):\n",
    "    global sbar\n",
    "    sbar = [x[:] for x in s]\n",
    "    for row in range(9):\n",
    "        for col in range(9):\n",
    "            sbar[row][col] = [sbar[row][col]]\n",
    "            if (sbar[row][col] == [0]):\n",
    "                sbar[row][col] = []\n",
    "                for val in (1,2,3,4,5,6,7,8,9):\n",
    "                    if (subSquareCheck(col,row,val,s) and verticalCheck(col, val, s) and horizontalCheck(row, val, s)):\n",
    "                        sbar[row][col].append(val)\n",
    "    pass\n",
    "\n",
    "def sudokuSolver (s, strategies) :\n",
    "    possibilities(s)\n",
    "    while not solved(s):\n",
    "        changed = []\n",
    "        for strategy in strategies:\n",
    "            changed.append(applyStrategy(strategy, s, sbar))\n",
    "        if (True not in changed) :\n",
    "            break\n",
    "    #Last ditch attempt to see if solved puzzle lies in sbar\n",
    "    for row in range(9):\n",
    "        for col in range(9):\n",
    "            if len(sbar[row][col])!=1:\n",
    "                #Does not lie in sbar \n",
    "                break\n",
    "            else:\n",
    "                s[row][col] = sbar[row][col][0]\n",
    "    if not solved(s):\n",
    "        #Gosh diddly darnit we gotta pull out the big guns\n",
    "        brutus = bruteForce(s,sbar,strategies)\n",
    "        if not solved(brutus):\n",
    "            #Big guns couldnt do it... so sad\n",
    "            raise SudokuUnsolvable\n",
    "        else:\n",
    "            #Hoorah! no need for strategies, the big guns have dunnit\n",
    "            return brutus\n",
    "    else:    \n",
    "        return s\n",
    "    \n",
    "def updateSbar(row,col,val,s):\n",
    "    #Set Sbar to value found\n",
    "    sbar[row][col] = [val]\n",
    "    #Remove value from its row and column\n",
    "    for i in range(9):\n",
    "        if (i != col and (val in sbar[row][i])):\n",
    "            sbar[row][i].remove(val)\n",
    "        if (i != row and (val in sbar[i][col])):\n",
    "            sbar[i][col].remove(val)\n",
    "    #Remove value from its block\n",
    "    for i in whichSquare(row):\n",
    "        for j in whichSquare(col):\n",
    "            if (sbar[i][j] != [val] and (val in sbar[i][j])):\n",
    "                sbar[i][j].remove(val)\n",
    "    return val\n",
    "\n",
    "\n",
    "def elimination (col, row, s) :\n",
    "    counter = 0\n",
    "    ans = 0\n",
    "    for val in (1,2,3,4,5,6,7,8,9):\n",
    "        if (subSquareCheck(col,row,val,s) and verticalCheck(col, val, s) and horizontalCheck(row, val, s)):\n",
    "            counter += 1\n",
    "            ans = val\n",
    "    if (counter == 0):\n",
    "        raise SudokuInvalid\n",
    "    elif (counter == 1):\n",
    "        return updateSbar(row,col,ans,s)\n",
    "    else:\n",
    "        return 0\n",
    "    \n",
    "    \n",
    "def hiddenSingles(col, row, s) :\n",
    "    for val in (1,2,3,4,5,6,7,8,9):\n",
    "        if (subSquareCheck(col,row,val,s) and verticalCheck(col, val, s) and horizontalCheck(row, val, s)):\n",
    "            \n",
    "            #Single in row case\n",
    "            checkrow = 0\n",
    "            for i in range(9):\n",
    "                if verticalCheck(i, val, s):\n",
    "                    checkrow +=1\n",
    "            if checkrow == 1:\n",
    "                return updateSbar(row,col,val,s)\n",
    "            \n",
    "            #Single in column case\n",
    "            checkcol = 0\n",
    "            for j in range(9):\n",
    "                if horizontalCheck(row, val, s):\n",
    "                    checkcol +=1\n",
    "            if checkcol == 1:\n",
    "                return updateSbar(row,col,val,s)\n",
    "            \n",
    "            #Single in block case\n",
    "            checkblock = 0\n",
    "            for i in whichSquare(col):\n",
    "                for j in whichSquare(row):\n",
    "                    if (verticalCheck(i, val, s) and horizontalCheck(j, val, s) and s[j][i] == 0):\n",
    "                        checkblock +=1\n",
    "            if checkblock == 1:\n",
    "                return updateSbar(row,col,val,s)\n",
    "    return 0\n",
    "\n",
    "def nakedPair(s):\n",
    "    #two cells in a row a column or a block               \n",
    "    #having only the same pair of candidates\n",
    "    #are called a naked pair all other\n",
    "    #appearances of the two candidates in the\n",
    "    #same row column or block can be\n",
    "    #eliminated\n",
    "    \n",
    "    for row in sbar:\n",
    "        a = []\n",
    "        for col in row:\n",
    "            if (row.count(col) == 2 and len(col)==2 and (col not in a)):\n",
    "                a.append(col)\n",
    "        for col in row:\n",
    "            if len(a) > 0 :\n",
    "                for pair in a:\n",
    "                    if (col != pair):\n",
    "                        if pair[0] in col:\n",
    "                            col.remove(pair[0])\n",
    "                        if pair[1] in col:\n",
    "                            col.remove(pair[1]) \n",
    "\n",
    "#     #Pair in column\n",
    "    \n",
    "    for col in range(9):\n",
    "        c = []\n",
    "        d = []\n",
    "        for row in sbar:\n",
    "            c.append(row[col])\n",
    "            #Find a pair & add to list c\n",
    "        for i in c:\n",
    "            if (c.count(i)==2 and len(i)==2 and (i not in d)):\n",
    "                d.append(i)\n",
    "        for row in sbar:\n",
    "            if len(d) >0:\n",
    "                for pair in d:\n",
    "                    if (row[col] != pair):\n",
    "                        if pair[0] in row[col]:\n",
    "                            row[col].remove(pair[0])\n",
    "                        if pair[1] in row[col]:\n",
    "                            row[col].remove(pair[1])\n",
    "    #Pair in block\n",
    "    for i in (1,4,7):\n",
    "        for j in (1,4,7):\n",
    "            e = []\n",
    "            t = []\n",
    "            #In each block, check all positions\n",
    "            for v in (-1,0,1):\n",
    "                for h in (-1,0,1):\n",
    "                    e.append(sbar[i+v][j+h])\n",
    "            for k in e:\n",
    "                if (e.count(k)==2 and len(k)==2 and (k not in t)):\n",
    "                    t.append(k)\n",
    "            for v in (-1,0,1):\n",
    "                for h in (-1,0,1):\n",
    "                    if (len(t)>0):\n",
    "                        for pair in t:\n",
    "                            if (sbar[i+v][j+h] != pair):\n",
    "                                if pair[0] in sbar[i+v][j+h]:\n",
    "                                    sbar[i+v][j+h].remove(pair[0])\n",
    "                                if pair[1] in sbar[i+v][j+h]:\n",
    "                                    sbar[i+v][j+h].remove(pair[1]) \n",
    "    #Change s as we go\n",
    "    for row in range(9):\n",
    "        for col in range(9):\n",
    "            if (len(sbar[row][col])==1):\n",
    "                s[row][col] = sbar[row][col][0]\n",
    "                updateSbar(row,col,sbar[row][col][0],s)\n",
    "\n",
    "    pass\n",
    "\n",
    "\n",
    "def pointingPair(s):\n",
    "    #when a certain candidate appears only in\n",
    "    #two or three cells in a block and the\n",
    "    #cells are aligned in a column or a row\n",
    "    #they are called a pointing pair or\n",
    "    #triples all other appearances of the\n",
    "    #candidate outside the block in the same\n",
    "    #column or row can be eliminated\n",
    "    for val in (1,2,3,4,5,6,7,8,9):\n",
    "        for i in (1,4,7):\n",
    "            for j in (1,4,7):\n",
    "                #Find where we can put val in block\n",
    "                drows = [[0,0,0],[0,0,0],[0,0,0]]\n",
    "                dcols = [[0,0,0],[0,0,0],[0,0,0]]\n",
    "                for v in (-1,0,1):\n",
    "                    for h in (-1,0,1):\n",
    "                        if (val in sbar[i+v][j+h])  and len(sbar[i+v][j+h])>1:\n",
    "                            drows[v+1][h+1]=1\n",
    "                            dcols[h+1][v+1]=1\n",
    "                        #To catch unupdated sbars\n",
    "                        elif (val in sbar[i+v][j+h]) and len(sbar[i+v][j+h])==1:\n",
    "                            drows = [[0,0,0],[0,0,0],[0,0,0]]\n",
    "                            break\n",
    "                \n",
    "                yeet = [0,0,0]\n",
    "                yote = [0,0,0]\n",
    "                rowSingle = False\n",
    "                colSingle = False\n",
    "                for k in range(3):\n",
    "                    if drows[k].count(1) > 1:\n",
    "                        yeet[k] = 1\n",
    "                    elif drows[k].count(1) == 1:\n",
    "                        rowSingle = True\n",
    "                    if dcols[k].count(1) > 1:\n",
    "                        yote[k] = 1\n",
    "                    elif dcols[k].count(1) == 1:\n",
    "                        colSingle = True\n",
    "                \n",
    "                #remove from row if cond are met\n",
    "                if (yeet.count(1) == 1 and not rowSingle):\n",
    "                    specialrow = yeet.index(1) - 1\n",
    "                    for rep in range(9):\n",
    "                        if horizontalCheck(i+specialrow, val, s):\n",
    "                            if ((rep!=j-1) and (rep!=j) and (rep!=j+1) and len(sbar[i+specialrow][rep]) != 1 and (val in sbar[i+specialrow][rep])):\n",
    "                                sbar[i+specialrow][rep].remove(val)\n",
    "                        else:\n",
    "                            #update sbars\n",
    "                            if ((val in sbar[i+specialrow][rep]) and len(sbar[i+specialrow][rep]) != 1):\n",
    "                                sbar[i+specialrow][rep].remove(val)\n",
    "                        \n",
    "    #Change s as we go\n",
    "    for row in range(9):\n",
    "        for col in range(9):\n",
    "            if (len(sbar[row][col])==1):\n",
    "                s[row][col] = sbar[row][col][0]\n",
    "                updateSbar(row,col,sbar[row][col][0],s)\n",
    "\n",
    "    pass\n",
    "    \n",
    "def claimingPair(s):\n",
    "    #when a certain candidate appears in only\n",
    "    #two or three cells in a row or a column\n",
    "    #and the cells are also in a block they\n",
    "    #are called a claiming pair or triple all\n",
    "    #other appearances of the candidate in\n",
    "    #the same block the family can be\n",
    "    #eliminated\n",
    "    for val in (1,2,3,4,5,6,7,8,9):\n",
    "        for row in range(9):\n",
    "            counter = []\n",
    "            for col in sbar[row]:\n",
    "                if val in col:\n",
    "                    counter.append(1)\n",
    "                else:\n",
    "                    counter.append(0)\n",
    "            if (counter.count(1) == 2 and counter[0:3].count(1) == 2) or (counter.count(1) == 3 and counter[0:3].count(1) == 3):\n",
    "                for i in whichSquare(row):\n",
    "                    for j in (0,1,2):\n",
    "                        if i != row and len(sbar[i][j]) > 1 and ((val in sbar[i][j])):\n",
    "                            sbar[i][j].remove(val)\n",
    "            if (counter.count(1) == 2 and counter[3:6].count(1) == 2) or (counter.count(1) == 3 and counter[3:6].count(1) == 3):\n",
    "                for i in whichSquare(row):\n",
    "                    for j in (3,4,5):\n",
    "                        if i != row and len(sbar[i][j]) > 1 and ((val in sbar[i][j])):\n",
    "                            sbar[i][j].remove(val)\n",
    "            if (counter.count(1) == 2 and counter[6:9].count(1) == 2) or (counter.count(1) == 3 and counter[6:9].count(1) == 3):\n",
    "                for i in whichSquare(row):\n",
    "                    for j in (6,7,8):\n",
    "                        if i != row and len(sbar[i][j]) > 1 and ((val in sbar[i][j])):\n",
    "                            sbar[i][j].remove(val)\n",
    "            \n",
    "        for col in range(9):\n",
    "            counter = []\n",
    "            for row in range(9):\n",
    "                if val in sbar[row][col]:\n",
    "                    counter.append(1)\n",
    "                else:\n",
    "                    counter.append(0)\n",
    "            if (counter.count(1) == 2 and counter[0:3].count(1) == 2) or (counter.count(1) == 3 and counter[0:3].count(1) == 3):\n",
    "                for j in whichSquare(col):\n",
    "                    for i in (0,1,2):\n",
    "                        if j != col and len(sbar[i][j]) > 1 and ((val in sbar[i][j])):\n",
    "                            sbar[i][j].remove(val)\n",
    "            if (counter.count(1) == 2 and counter[3:6].count(1) == 2) or (counter.count(1) == 3 and counter[3:6].count(1) == 3):\n",
    "                for j in whichSquare(col):\n",
    "                    for i in (3,4,5):\n",
    "                        if j != col and len(sbar[i][j]) > 1 and ((val in sbar[i][j])):\n",
    "                            sbar[i][j].remove(val)\n",
    "            if (counter.count(1) == 2 and counter[6:9].count(1) == 2) or (counter.count(1) == 3 and counter[6:9].count(1) == 3):\n",
    "                for j in whichSquare(col):\n",
    "                    for i in (6,7,8):\n",
    "                        if j != col and len(sbar[i][j]) > 1 and ((val in sbar[i][j])):\n",
    "                            sbar[i][j].remove(val)                                      \n",
    "    #Change s as we go\n",
    "    for row in range(9):\n",
    "        for col in range(9):\n",
    "            if (len(sbar[row][col])==1):\n",
    "                s[row][col] = sbar[row][col][0]\n",
    "                updateSbar(row,col,sbar[row][col][0],s)\n",
    "\n",
    "    pass\n",
    "\n",
    "\n",
    "def nakedTriple(s):\n",
    "    #three cells in a row, a column, or a block\n",
    "    #having only the same three candidates or\n",
    "    #their subsets are called naked triple\n",
    "    #all other appearances of the same\n",
    "    #candidates can be eliminated if they are\n",
    "    #in the same row column or block\n",
    "    \n",
    "    for row in range(9):\n",
    "        #remove cases in row that are already solved\n",
    "        combvals = [1,2,3,4,5,6,7,8,9]\n",
    "        for i in s[row]:\n",
    "            if i != 0:\n",
    "                combvals.remove(i)\n",
    "        combos = combinations(combvals, 3)\n",
    "        for comb in combos:\n",
    "            counter = 0\n",
    "            for col in range(9):\n",
    "                if set(sbar[row][col]).issubset(set(comb)):\n",
    "                    counter += 1\n",
    "            if counter == 3:\n",
    "                for k in sbar[row]:\n",
    "                    for q in comb:\n",
    "                        if ((q in k) and not set(k).issubset(set(comb))):\n",
    "                            k.remove(q)\n",
    "                                \n",
    "    for col in range(9):\n",
    "\n",
    "        combvals = [1,2,3,4,5,6,7,8,9]\n",
    "        for i in [item[col] for item in s]:\n",
    "            if i != 0:\n",
    "                combvals.remove(i)\n",
    "        combos = combinations(combvals, 3)\n",
    "        for comb in combos:\n",
    "            counter = 0\n",
    "            for row in range(9):\n",
    "                if set(sbar[row][col]).issubset(set(comb)):\n",
    "                    counter += 1\n",
    "            if counter == 3:\n",
    "                for k in sbar:\n",
    "                    for q in comb:\n",
    "                        if ((q in k[col]) and not set(k[col]).issubset(set(comb))):\n",
    "                            k[col].remove(q)\n",
    "    \n",
    "    for i in (1,4,7):\n",
    "        for j in (1,4,7):\n",
    "            combvals = [1,2,3,4,5,6,7,8,9]\n",
    "            for v in (-1,0,1):\n",
    "                for h in (-1,0,1):\n",
    "                    if s[i+v][j+h] != 0:\n",
    "                        combvals.remove(s[i+v][j+h])\n",
    "            combos = combinations(combvals, 3)\n",
    "            for comb in combos:\n",
    "                counter = 0 \n",
    "                for v in (-1,0,1):\n",
    "                    for h in (-1,0,1):\n",
    "                        if set(sbar[i+v][j+h]).issubset(set(comb)):\n",
    "                            counter += 1\n",
    "                if counter == 3:\n",
    "                    for v in (-1,0,1):\n",
    "                        for h in (-1,0,1):\n",
    "                            for q in comb:\n",
    "                                if ((q in sbar[i+v][j+h]) and not set(sbar[i+v][j+h]).issubset(set(comb))):\n",
    "                                    sbar[i+v][j+h].remove(q)  \n",
    "    \n",
    "    #Change s as we go\n",
    "    for row in range(9):\n",
    "        for col in range(9):\n",
    "            if (len(sbar[row][col])==1):\n",
    "                s[row][col] = sbar[row][col][0]\n",
    "                updateSbar(row,col,sbar[row][col][0],s)\n",
    "\n",
    "    pass\n",
    "\n",
    "          \n",
    "\n",
    "def nakedQuad(s):\n",
    "    #four cells in a row a column or a block\n",
    "    #having only the same four candidates or\n",
    "    #their subset are called a naked quad all\n",
    "    #other appearances of the same candidates\n",
    "    #can be eliminated if they are in the\n",
    "    #same row column or block\n",
    "    \n",
    "    for row in range(9):\n",
    "        #remove cases in row that are already solved\n",
    "        combvals = [1,2,3,4,5,6,7,8,9]\n",
    "        for i in s[row]:\n",
    "            if i != 0:\n",
    "                combvals.remove(i)\n",
    "        combos = combinations(combvals, 4)\n",
    "        for comb in combos:\n",
    "            counter = 0\n",
    "            for col in range(9):\n",
    "                if set(sbar[row][col]).issubset(set(comb)):\n",
    "                    counter += 1\n",
    "            if counter == 4:\n",
    "                for k in sbar[row]:\n",
    "                    for q in comb:\n",
    "                        if ((q in k) and not set(k).issubset(set(comb))):\n",
    "                            k.remove(q)\n",
    "                                \n",
    "    for col in range(9):\n",
    "            \n",
    "        combvals = [1,2,3,4,5,6,7,8,9]\n",
    "        for i in [item[col] for item in s]:\n",
    "            if i != 0:\n",
    "                combvals.remove(i)\n",
    "        combos = combinations(combvals, 4)\n",
    "        for comb in combos:\n",
    "            counter = 0\n",
    "            for row in range(9):\n",
    "                if set(sbar[row][col]).issubset(set(comb)):\n",
    "                    counter += 1\n",
    "            if counter == 4:\n",
    "                for k in sbar:\n",
    "                    for q in comb:\n",
    "                        if ((q in k[col]) and not set(k[col]).issubset(set(comb))):\n",
    "                            k[col].remove(q)\n",
    "    \n",
    "    for i in (1,4,7):\n",
    "        for j in (1,4,7):\n",
    "            combvals = [1,2,3,4,5,6,7,8,9]\n",
    "            for v in (-1,0,1):\n",
    "                for h in (-1,0,1):\n",
    "                    if s[i+v][j+h] != 0:\n",
    "                        combvals.remove(s[i+v][j+h])\n",
    "            combos = combinations(combvals, 4)\n",
    "            for comb in combos:\n",
    "                counter = 0 \n",
    "                for v in (-1,0,1):\n",
    "                    for h in (-1,0,1):\n",
    "                        if set(sbar[i+v][j+h]).issubset(set(comb)):\n",
    "                            counter += 1\n",
    "                if counter == 4:\n",
    "                    for v in (-1,0,1):\n",
    "                        for h in (-1,0,1):\n",
    "                            for q in comb:\n",
    "                                if ((q in sbar[i+v][j+h]) and not set(sbar[i+v][j+h]).issubset(set(comb))):\n",
    "                                    sbar[i+v][j+h].remove(q)  \n",
    "    \n",
    "    #Change s as we go\n",
    "    for row in range(9):\n",
    "        for col in range(9):\n",
    "            if (len(sbar[row][col])==1):\n",
    "                s[row][col] = sbar[row][col][0]\n",
    "                updateSbar(row,col,sbar[row][col][0],s)\n",
    "\n",
    "    pass\n",
    "\n",
    "def hiddenPair(s):\n",
    "    #when a pair of candidates appears in\n",
    "    #only two cells in a row a column or a\n",
    "    #block but they are the only candidates\n",
    "    #in the cells they are called the hidden\n",
    "    #pair all candidates other than the pair\n",
    "    #in the cells can be eliminated yielding a naked pair\n",
    "    \n",
    "    for row in sbar:\n",
    "        d = {1:0,2:0,3:0,4:0,5:0,6:0,7:0,8:0,9:0}\n",
    "        pair = []\n",
    "        for col in row:\n",
    "            for poss in col:\n",
    "                d[poss] +=1\n",
    "        for i in d:\n",
    "            if d[i] == 2:\n",
    "                pair.append(i)\n",
    "        if len(pair) > 1:\n",
    "            comb = combinations(pair, 2)\n",
    "            for combo in comb:\n",
    "                counter = 0\n",
    "                for col in row:\n",
    "                    if set(combo).issubset(col):\n",
    "                        counter += 1\n",
    "                if (counter == 2):\n",
    "                    #yay! Hidden pair\n",
    "                    for col in row:\n",
    "                        if set(combo).issubset(col):\n",
    "                            #change sbar to just the pair\n",
    "                            col = list(combo)\n",
    "    \n",
    "    for col in range(9):\n",
    "        d = {1:0,2:0,3:0,4:0,5:0,6:0,7:0,8:0,9:0}\n",
    "        pair = []\n",
    "        for row in range(9):\n",
    "            for poss in sbar[row][col]:\n",
    "                d[poss] +=1\n",
    "        for i in d:\n",
    "            if d[i] == 2:\n",
    "                pair.append(i)\n",
    "        if len(pair) > 1:\n",
    "            comb = combinations(pair, 2)\n",
    "            for combo in comb:\n",
    "                counter = 0\n",
    "                for row in range(9):\n",
    "                    if set(combo).issubset(sbar[row][col]):\n",
    "                        counter += 1\n",
    "                if (counter == 2):\n",
    "                    #yay! Hidden pair\n",
    "                    for row in range(9):\n",
    "                        if set(combo).issubset(sbar[row][col]):\n",
    "                            #change sbar to just the pair\n",
    "                            sbar[row][col] = list(combo)\n",
    "    \n",
    "      #Pair in block\n",
    "   \n",
    "    for i in (1,4,7):\n",
    "        for j in (1,4,7):\n",
    "            e = []\n",
    "            pair = []\n",
    "            d = {1:0,2:0,3:0,4:0,5:0,6:0,7:0,8:0,9:0}\n",
    "            #In each block, check all positions\n",
    "            for v in (-1,0,1):\n",
    "                for h in (-1,0,1):\n",
    "                    for poss in sbar[i+v][j+h]:\n",
    "                        d[poss] +=1\n",
    "            for egg in d:\n",
    "                if d[egg] == 2:\n",
    "                    pair.append(egg)\n",
    "            if len(pair) > 1:\n",
    "                comb = combinations(pair, 2)\n",
    "\n",
    "                for combo in comb:\n",
    "                    counter = 0\n",
    "                    for v in (-1,0,1):\n",
    "                        for h in (-1,0,1):\n",
    "                            if set(combo).issubset(sbar[i+v][j+h]):\n",
    "                                counter += 1\n",
    "                    if (counter == 2):\n",
    "                            #yay! Hidden pair\n",
    "                        for v in (-1,0,1):\n",
    "                            for h in (-1,0,1):\n",
    "                                if set(combo).issubset(sbar[i+v][j+h]):\n",
    "                                    #change sbar to just the pair\n",
    "                                    sbar[i+v][j+h] = list(combo)\n",
    "    \n",
    "    \n",
    "    #Change s as we go\n",
    "    for row in range(9):\n",
    "        for col in range(9):\n",
    "            if (len(sbar[row][col])==1):\n",
    "                s[row][col] = sbar[row][col][0]\n",
    "                updateSbar(row,col,sbar[row][col][0],s)\n",
    "\n",
    "    pass\n",
    "\n",
    "\n",
    "def Xwing(s):\n",
    "    #when a candidate appears in four cells\n",
    "    #that form the corners of a rectangle or\n",
    "    #a square and it appears only in the two\n",
    "    #cells in both rows all other appearances\n",
    "    #of the candidate in the two columns a\n",
    "    #family can be eliminated it also works\n",
    "    #if rows and columns are switched around\n",
    "    for val in (1,2,3,4,5,6,7,8,9):\n",
    "        \n",
    "        #FOR ROWS\n",
    "        counter = []\n",
    "        for row in range(9):\n",
    "            counter.append([])\n",
    "            for col in range(9):\n",
    "                if val in sbar[row][col]:\n",
    "                    counter[row].append(1)\n",
    "                else:\n",
    "                    counter[row].append(0)\n",
    "        edges = []\n",
    "        for row in range(9):\n",
    "            if counter[row].count(1) == 2:\n",
    "                edges.append([row, counter[row]])\n",
    "        colLoc = []\n",
    "        numXwingperVal = 0\n",
    "        if len(edges) > 1:\n",
    "            comb = combinations(edges, 2)\n",
    "            for i in comb:\n",
    "                if i[0][1] == i[1][1]:\n",
    "                    #print(\"XWING\",val,i, sbar)\n",
    "                    colLoc.append([])\n",
    "                    #SUCCESS\n",
    "                    for colEdge in range(9):\n",
    "                        if i[0][1][colEdge] == 1:\n",
    "                            colLoc[numXwingperVal].append([i[0][0],i[1][0],colEdge])\n",
    "                    numXwingperVal += 1\n",
    "        #print(colLoc)\n",
    "        #[[[1, 4, 4], [1, 4, 5]], [[5, 7, 0], [5, 7, 2]]]\n",
    "        \n",
    "        for amt in colLoc:\n",
    "            for row in range(9):\n",
    "                for col in amt:\n",
    "                    #specify rows to not delete\n",
    "                    if (row != col[0] and row != col[1]):\n",
    "                        if val in sbar[row][col[2]]:\n",
    "                            print(val,col[2])\n",
    "                            sbar[row][col[2]].remove(val)\n",
    "        #FOR COLUMNS\n",
    "        counter = []\n",
    "        for col in range(9):\n",
    "            counter.append([])\n",
    "            for row in range(9):\n",
    "                if val in sbar[row][col]:\n",
    "                    counter[col].append(1)\n",
    "                else:\n",
    "                    counter[col].append(0)\n",
    "        edges = []\n",
    "        for col in range(9):\n",
    "            if counter[col].count(1) == 2:\n",
    "                edges.append([col, counter[col]])\n",
    "        rowLoc = []\n",
    "        numXwingperVal = 0\n",
    "        if len(edges) > 1:\n",
    "            comb = combinations(edges, 2)\n",
    "            for i in comb:\n",
    "                if i[0][1] == i[1][1]:\n",
    "                    #print(\"XWING\",val,i, sbar)\n",
    "                    rowLoc.append([])\n",
    "                    #SUCCESS\n",
    "                    for rowEdge in range(9):\n",
    "                        if i[0][1][rowEdge] == 1:\n",
    "                            rowLoc[numXwingperVal].append([i[0][0],i[1][0],rowEdge])\n",
    "                    numXwingperVal += 1\n",
    "        #print(colLoc)\n",
    "        #[[[1, 4, 4], [1, 4, 5]], [[5, 7, 0], [5, 7, 2]]]\n",
    "        \n",
    "        for amt in rowLoc:\n",
    "            for col in range(9):\n",
    "                for row in amt:\n",
    "                    #specify rows to not delete\n",
    "                    if (col != row[0] and col != row[1]):\n",
    "                        if val in sbar[row[2]][col]:\n",
    "                            print(val,row[2])\n",
    "                            sbar[row[2]][col].remove(val)\n",
    "\n",
    "    for row in range(9):\n",
    "        for col in range(9):\n",
    "            if (len(sbar[row][col])==1):\n",
    "                s[row][col] = sbar[row][col][0]\n",
    "                updateSbar(row,col,sbar[row][col][0],s)\n",
    "    pass\n",
    "\n",
    "def bruteForce(s,sbar,strategies):\n",
    "    #When all else fails\n",
    "    sTry = copy.deepcopy(s)\n",
    "    for i in range(5):\n",
    "        a = random.choice(range(9))\n",
    "        b = random.choice(range(9))\n",
    "        sTry[a][b] = random.choice(sbar[a][b])\n",
    "        try:\n",
    "            return sudokuSolver(sTry, strategies)\n",
    "        except SudokuInvalid:\n",
    "            return bruteForce(s,sbar)\n",
    "        except SudokuUnsolvable:\n",
    "            return bruteForce(sTry,sbar)\n",
    "        except:\n",
    "            return bruteForce(s,sbar) \n",
    "    "
   ]
  },
  {
   "cell_type": "code",
   "execution_count": 839,
   "metadata": {},
   "outputs": [
    {
     "data": {
      "text/plain": [
       "True"
      ]
     },
     "execution_count": 839,
     "metadata": {},
     "output_type": "execute_result"
    }
   ],
   "source": [
    "instantiateCases () \n",
    "global evilSolution\n",
    "\n",
    "evilSolution = sudokuSolver(m, [elimination, hiddenSingles, nakedPair , pointingPair, claimingPair]) # <== add your strategies to the list here\n",
    "msolved = [[1,4,7,9,2,8,3,6,5],\n",
    "           [6,9,5,3,1,7,4,2,8],\n",
    "           [8,3,2,6,5,4,9,7,1],\n",
    "           [4,1,8,7,6,3,5,9,2],\n",
    "           [2,7,3,5,4,9,1,8,6],\n",
    "           [5,6,9,1,8,2,7,3,4],\n",
    "           [9,2,1,4,7,6,8,5,3],\n",
    "           [7,5,6,8,3,1,2,4,9],\n",
    "           [3,8,4,2,9,5,6,1,7]]\n",
    "msolved == evilSolution\n",
    "#Hidden test cases are below this cell, do not delete!"
   ]
  },
  {
   "cell_type": "code",
   "execution_count": null,
   "metadata": {
    "deletable": false,
    "nbgrader": {
     "cell_type": "code",
     "checksum": "dcba007dab7cf01e2d3c335f06d62e9c",
     "grade": true,
     "grade_id": "cell-a62aae69b3211e40",
     "locked": false,
     "points": 0,
     "schema_version": 3,
     "solution": true,
     "task": false
    }
   },
   "outputs": [],
   "source": []
  },
  {
   "cell_type": "code",
   "execution_count": 840,
   "metadata": {
    "deletable": false,
    "editable": false,
    "nbgrader": {
     "cell_type": "code",
     "checksum": "efc5dd1656d75501adfc255dde4a30f6",
     "grade": true,
     "grade_id": "cell-ec01ad8875a1d696",
     "locked": true,
     "points": 8,
     "schema_version": 3,
     "solution": false,
     "task": false
    }
   },
   "outputs": [],
   "source": [
    "# Hidden Test Case"
   ]
  },
  {
   "cell_type": "markdown",
   "metadata": {
    "deletable": false,
    "editable": false,
    "nbgrader": {
     "cell_type": "markdown",
     "checksum": "5be0fed7d1b44553cc26b4236bd5b6d4",
     "grade": false,
     "grade_id": "cell-0f84e451c166ba68",
     "locked": true,
     "schema_version": 3,
     "solution": false
    }
   },
   "source": [
    "## Bonus Question 1b - - (12 points!!) - Difficulty Level : Psychotic \n",
    "Now solve sudoku puzzle 'h'! 'h' is for Hard! \n",
    "\n",
    "This one is all or nothing!  Adding enough strategies to solve 'h' is worth 12 points! \n",
    "\n",
    "MWAHAHAHAHAHA!!! GOOD LUCK!!! "
   ]
  },
  {
   "cell_type": "code",
   "execution_count": null,
   "metadata": {
    "deletable": false,
    "nbgrader": {
     "cell_type": "code",
     "checksum": "08020f94a30903f8199b1770edd16072",
     "grade": false,
     "grade_id": "cell-2ee4ddf938340d6b",
     "locked": false,
     "schema_version": 3,
     "solution": true
    }
   },
   "outputs": [],
   "source": []
  },
  {
   "cell_type": "code",
   "execution_count": 844,
   "metadata": {
    "scrolled": false
   },
   "outputs": [],
   "source": [
    "# seriously though, only the very codiest will manage this one! \n",
    "instantiateCases ()\n",
    "global psychoSolution\n",
    "\n",
    "try:\n",
    "    psychoSolution = sudokuSolver(h, [elimination, hiddenSingles, nakedPair, pointingPair, claimingPair, nakedTriple , Xwing, nakedQuad, hiddenPair]) # <== add your strategies to the list here\n",
    "except SudokuUnsolvable:\n",
    "    print(\"This is the best it can do\", h)\n",
    "    print(\"ARGHHHHH\")\n",
    "#Hidden test cases are below this cell, do not delete!!\n"
   ]
  },
  {
   "cell_type": "code",
   "execution_count": 842,
   "metadata": {
    "deletable": false,
    "editable": false,
    "nbgrader": {
     "cell_type": "code",
     "checksum": "52445d0af7a991a19a776873c6821f7a",
     "grade": true,
     "grade_id": "cell-6ae40ab8b44a1ca0",
     "locked": true,
     "points": 12,
     "schema_version": 3,
     "solution": false,
     "task": false
    }
   },
   "outputs": [],
   "source": [
    "# Hidden Test Case"
   ]
  },
  {
   "cell_type": "code",
   "execution_count": 843,
   "metadata": {},
   "outputs": [],
   "source": [
    "# "
   ]
  },
  {
   "cell_type": "code",
   "execution_count": null,
   "metadata": {},
   "outputs": [],
   "source": []
  }
 ],
 "metadata": {
  "kernelspec": {
   "display_name": "Python 3",
   "language": "python",
   "name": "python3"
  },
  "language_info": {
   "codemirror_mode": {
    "name": "ipython",
    "version": 3
   },
   "file_extension": ".py",
   "mimetype": "text/x-python",
   "name": "python",
   "nbconvert_exporter": "python",
   "pygments_lexer": "ipython3",
   "version": "3.7.3"
  }
 },
 "nbformat": 4,
 "nbformat_minor": 2
}
